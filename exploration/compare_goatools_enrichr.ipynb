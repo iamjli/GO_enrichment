{
 "cells": [
  {
   "cell_type": "code",
   "execution_count": 1,
   "metadata": {
    "collapsed": true
   },
   "outputs": [],
   "source": [
    "import sys, os\n",
    "\n",
    "import pandas as pd\n",
    "import numpy as np\n",
    "\n",
    "import pickle as pkl\n",
    "\n",
    "sys.path.insert(0, \"../\")\n",
    "from enrichment import *"
   ]
  },
  {
   "cell_type": "markdown",
   "metadata": {},
   "source": [
    "# 1. Import annotation files"
   ]
  },
  {
   "cell_type": "code",
   "execution_count": 2,
   "metadata": {
    "collapsed": false
   },
   "outputs": [
    {
     "name": "stdout",
     "output_type": "stream",
     "text": [
      "  READ 417,076 associations: goa_human.gaf\n"
     ]
    }
   ],
   "source": [
    "from goatools.associations import read_gaf\n",
    "\n",
    "# Import GO annotations from http://geneontology.org/gene-associations/goa_human.gaf.gz\n",
    "goatools_annotations = read_gaf(\"goa_human.gaf\")"
   ]
  },
  {
   "cell_type": "code",
   "execution_count": 3,
   "metadata": {
    "collapsed": true
   },
   "outputs": [],
   "source": [
    "# Import GO BP 2015 database - Associations\n",
    "# Get ftp://ftp.ncbi.nlm.nih.gov/gene/DATA/gene2go.gz\n",
    "\n",
    "enrichr_annotations = {}\n",
    "with open(\"GO_Biological_Process_2015.txt\", 'rb') as f:\n",
    "    for line in f.readlines():\n",
    "        tmp = line.rstrip('\\n').split('\\t')\n",
    "        key = tmp[0].split(\"(\")[1].rstrip(\")\")\n",
    "        vals = tmp[2:-1]\n",
    "        enrichr_annotations[key] = vals"
   ]
  },
  {
   "cell_type": "markdown",
   "metadata": {},
   "source": [
    "# 2. Compare annotation files"
   ]
  },
  {
   "cell_type": "code",
   "execution_count": 22,
   "metadata": {
    "collapsed": false
   },
   "outputs": [
    {
     "name": "stdout",
     "output_type": "stream",
     "text": [
      "Number of pathways in goatools: 17181\n",
      "Number of pathways in enrichr:  5190\n",
      "Number of pathways in both:     4183\n"
     ]
    }
   ],
   "source": [
    "pathway_union = list(set(goatools_annotations) | set(enrichr_annotations))\n",
    "pathway_intersection = list(set(goatools_annotations) & set(enrichr_annotations))\n",
    "\n",
    "print \"Number of pathways in goatools:\", len(goatools_annotations)\n",
    "print \"Number of pathways in enrichr: \", len(enrichr_annotations)\n",
    "print \"Number of pathways in both:    \", len(pathway_intersection)"
   ]
  },
  {
   "cell_type": "code",
   "execution_count": 26,
   "metadata": {
    "collapsed": false
   },
   "outputs": [],
   "source": [
    "# Compare pathway sizes for pathways in either \n",
    "arr = []\n",
    "\n",
    "for key in pathway_union:\n",
    "    if key in goatools_annotations: \n",
    "        goatools_len = len(goatools_annotations[key])\n",
    "    else:\n",
    "        goatools_len = 0\n",
    "    \n",
    "    if key in enrichr_annotations:\n",
    "        enrichr_len = len(enrichr_annotations[key])\n",
    "    else:\n",
    "        enrichr_len = 0\n",
    "        \n",
    "    arr.append([key, np.log2(goatools_len+1), np.log2(enrichr_len+1)])\n",
    "    \n",
    "df = pd.DataFrame(arr, columns=[\"pathway\", \"goatools\", \"enrichr\"])"
   ]
  },
  {
   "cell_type": "code",
   "execution_count": 27,
   "metadata": {
    "collapsed": false
   },
   "outputs": [
    {
     "data": {
      "text/plain": [
       "(0, 10)"
      ]
     },
     "execution_count": 27,
     "metadata": {},
     "output_type": "execute_result"
    },
    {
     "data": {
      "image/png": "[encoded data removed]",
      "text/plain": [
       "<matplotlib.figure.Figure at 0x1493d3cd0>"
      ]
     },
     "metadata": {},
     "output_type": "display_data"
    }
   ],
   "source": [
    "import matplotlib.pyplot as plt\n",
    "import seaborn as sns\n",
    "%matplotlib inline\n",
    "\n",
    "sns.jointplot(x=\"goatools\", y=\"enrichr\", data=df, kind=\"kde\")\n",
    "plt.xlim([0,10])\n",
    "plt.ylim([0,10])"
   ]
  },
  {
   "cell_type": "code",
   "execution_count": 23,
   "metadata": {
    "collapsed": false
   },
   "outputs": [],
   "source": [
    "# Compare pathway sizes for pathways in both \n",
    "arr = []\n",
    "\n",
    "for key in pathway_intersection:\n",
    "    goatools_len = len(goatools_annotations[key])\n",
    "    enrichr_len = len(enrichr_annotations[key])\n",
    "        \n",
    "    arr.append([key, np.log2(goatools_len), np.log2(enrichr_len)])\n",
    "    \n",
    "df = pd.DataFrame(arr, columns=[\"pathway\", \"goatools\", \"enrichr\"])"
   ]
  },
  {
   "cell_type": "code",
   "execution_count": 24,
   "metadata": {
    "collapsed": false
   },
   "outputs": [
    {
     "data": {
      "text/plain": [
       "(0, 10)"
      ]
     },
     "execution_count": 24,
     "metadata": {},
     "output_type": "execute_result"
    },
    {
     "data": {
      "image/png": "[encoded data removed]",
      "text/plain": [
       "<matplotlib.figure.Figure at 0x13657f610>"
      ]
     },
     "metadata": {},
     "output_type": "display_data"
    }
   ],
   "source": [
    "import matplotlib.pyplot as plt\n",
    "import seaborn as sns\n",
    "%matplotlib inline\n",
    "\n",
    "sns.jointplot(x=\"goatools\", y=\"enrichr\", data=df, kind=\"kde\")\n",
    "plt.xlim([0,10])\n",
    "plt.ylim([0,10])"
   ]
  },
  {
   "cell_type": "code",
   "execution_count": null,
   "metadata": {
    "collapsed": true
   },
   "outputs": [],
   "source": []
  }
 ],
 "metadata": {
  "kernelspec": {
   "display_name": "Python 2",
   "language": "python",
   "name": "python2"
  },
  "language_info": {
   "codemirror_mode": {
    "name": "ipython",
    "version": 2
   },
   "file_extension": ".py",
   "mimetype": "text/x-python",
   "name": "python",
   "nbconvert_exporter": "python",
   "pygments_lexer": "ipython2",
   "version": "2.7.12"
  }
 },
 "nbformat": 4,
 "nbformat_minor": 0
}
